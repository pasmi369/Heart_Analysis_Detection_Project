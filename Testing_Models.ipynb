{
 "cells": [
  {
   "cell_type": "code",
   "execution_count": 34,
   "id": "a0d53f54",
   "metadata": {},
   "outputs": [],
   "source": [
    "import warnings\n",
    "warnings.filterwarnings('ignore')"
   ]
  },
  {
   "cell_type": "code",
   "execution_count": 35,
   "id": "68e6d2c6",
   "metadata": {},
   "outputs": [],
   "source": [
    "# import dependancies\n",
    "import numpy as np\n",
    "import pandas as pd\n",
    "from pathlib import Path\n",
    "from collections import Counter\n",
    "from sklearn.metrics import accuracy_score\n",
    "from sklearn.metrics import confusion_matrix\n",
    "from imblearn.metrics import classification_report_imbalanced"
   ]
  },
  {
   "cell_type": "markdown",
   "id": "e806b08c",
   "metadata": {},
   "source": [
    "# Read the Cardio CSV"
   ]
  },
  {
   "cell_type": "code",
   "execution_count": 37,
   "id": "ea22d424",
   "metadata": {
    "scrolled": true
   },
   "outputs": [],
   "source": [
    "# Load the data\n",
    "file_path = Path('Resources/cardio_train.csv')\n",
    "cardio_df = pd.read_csv(file_path, sep=';')\n",
    "\n",
    "#cardio_df.head()"
   ]
  },
  {
   "cell_type": "code",
   "execution_count": null,
   "id": "843ef6ba",
   "metadata": {},
   "outputs": [],
   "source": [
    "#cardio_df.describe()"
   ]
  },
  {
   "cell_type": "code",
   "execution_count": 38,
   "id": "b79d83ea",
   "metadata": {
    "scrolled": true
   },
   "outputs": [],
   "source": [
    "# convert age to years\n",
    "cardio_df['age_year'] = (cardio_df['age']/365).round(0)"
   ]
  },
  {
   "cell_type": "code",
   "execution_count": 39,
   "id": "1908cca1",
   "metadata": {},
   "outputs": [],
   "source": [
    "# Remove outliers in ap_hi\n",
    "q_hi  = cardio_df[\"ap_hi\"].quantile(0.99)\n",
    "\n",
    "df_filtered = cardio_df[(cardio_df[\"ap_hi\"] < q_hi)]"
   ]
  },
  {
   "cell_type": "code",
   "execution_count": 40,
   "id": "dacfa6ee",
   "metadata": {},
   "outputs": [],
   "source": [
    "# Remove outliers in ap_lo\n",
    "q_hi  = cardio_df[\"ap_lo\"].quantile(0.99)\n",
    "\n",
    "cardio_filtered = df_filtered[(df_filtered[\"ap_lo\"] < q_hi)]"
   ]
  },
  {
   "cell_type": "code",
   "execution_count": 41,
   "id": "e6fddb1b",
   "metadata": {},
   "outputs": [],
   "source": [
    "# Create age groups\n",
    "size_bins = [0,39,49,59,90]\n",
    "group_names = [\"<40\",\"40-49\", \"50-59\", \"60-89\"]\n",
    "cardio_filtered[\"age_group\"] = pd.cut(cardio_filtered[\"age_year\"], size_bins, labels = group_names)\n",
    "\n",
    "# encode age groups\n",
    "cardio_filtered['age_group_encoded'] = cardio_filtered['age_group'].map( {\"<40\":0, \"40-49\":1, \"50-59\":2, \"60-89\":3})"
   ]
  },
  {
   "cell_type": "code",
   "execution_count": 42,
   "id": "846d64ad",
   "metadata": {
    "scrolled": false
   },
   "outputs": [],
   "source": [
    "#converting height into meters\n",
    "height_meters = cardio_filtered[\"height\"]/100\n",
    "\n",
    "# calculate the bmi\n",
    "cardio_filtered[\"bmi\"] = round(cardio_filtered[\"weight\"]/(height_meters**2),2)\n",
    "\n",
    "# Create bmi health status\n",
    "size_bins = [0,18.4,24.9,29.9,300]\n",
    "group_names = [\"underweight\",\"healthy\",\"overweight\",\"obese\"]\n",
    "cardio_filtered[\"bmi_status\"] = pd.cut(cardio_filtered[\"bmi\"], size_bins, labels = group_names)\n",
    "\n",
    "# encode the bmi status\n",
    "cardio_filtered['bmi_status_encoded'] = cardio_filtered['bmi_status'].map( {\"underweight\":0, \"healthy\":1, \"overweight\":2, \"obese\":3})"
   ]
  },
  {
   "cell_type": "code",
   "execution_count": 43,
   "id": "efb60bb2",
   "metadata": {},
   "outputs": [],
   "source": [
    "# Ranges based on https://www.healthline.com/health/high-blood-pressure-hypertension/blood-pressure-reading-explained\n",
    "# Create ap_hi ranges\n",
    "size_bins = [0,119,129,139,179]\n",
    "group_names = [\"normal\",\"elevated\",\"high_blood_pressure_1\",\"high_blood_pressure_2\"]\n",
    "cardio_filtered[\"ap_hi_status\"] = pd.cut(cardio_filtered[\"ap_hi\"], size_bins, labels = group_names)\n",
    "\n",
    "# encode the ap_hi_status\n",
    "cardio_filtered['ap_hi_status_encoded'] = cardio_filtered['ap_hi_status'].map( {\"normal\":0, \"elevated\":1, \"high_blood_pressure_1\":2, \"high_blood_pressure_2\":3})\n",
    "\n",
    "# Create ap_lo ranges\n",
    "size_bins = [0,79,89,119,910]\n",
    "group_names = [\"normal\",\"high_blood_pressure_1\",\"high_blood_pressure_2\",\"hypertensive_crisis\"]\n",
    "cardio_filtered[\"ap_lo_status\"] = pd.cut(cardio_filtered[\"ap_lo\"], size_bins, labels = group_names)\n",
    "\n",
    "# encode the ap_lo_status\n",
    "cardio_filtered['ap_lo_status_encoded'] = cardio_filtered['ap_lo_status'].map( {\"normal\":0,\"high_blood_pressure_1\":1, \"high_blood_pressure_2\":2,\"hypertensive_crisis\":3})"
   ]
  },
  {
   "cell_type": "code",
   "execution_count": null,
   "id": "1913b894",
   "metadata": {},
   "outputs": [],
   "source": [
    "#cardio_filtered.describe()"
   ]
  },
  {
   "cell_type": "markdown",
   "id": "986c548f",
   "metadata": {},
   "source": [
    "# Split the Data into Training and Testing"
   ]
  },
  {
   "cell_type": "code",
   "execution_count": 44,
   "id": "b796b8de",
   "metadata": {
    "scrolled": false
   },
   "outputs": [
    {
     "data": {
      "text/html": [
       "<div>\n",
       "<style scoped>\n",
       "    .dataframe tbody tr th:only-of-type {\n",
       "        vertical-align: middle;\n",
       "    }\n",
       "\n",
       "    .dataframe tbody tr th {\n",
       "        vertical-align: top;\n",
       "    }\n",
       "\n",
       "    .dataframe thead th {\n",
       "        text-align: right;\n",
       "    }\n",
       "</style>\n",
       "<table border=\"1\" class=\"dataframe\">\n",
       "  <thead>\n",
       "    <tr style=\"text-align: right;\">\n",
       "      <th></th>\n",
       "      <th>gender</th>\n",
       "      <th>cholesterol</th>\n",
       "      <th>gluc</th>\n",
       "      <th>smoke</th>\n",
       "      <th>alco</th>\n",
       "      <th>active</th>\n",
       "      <th>cardio</th>\n",
       "      <th>age_group_encoded</th>\n",
       "      <th>bmi_status_encoded</th>\n",
       "      <th>ap_hi_status_encoded</th>\n",
       "      <th>ap_lo_status_encoded</th>\n",
       "    </tr>\n",
       "  </thead>\n",
       "  <tbody>\n",
       "    <tr>\n",
       "      <th>0</th>\n",
       "      <td>2</td>\n",
       "      <td>1</td>\n",
       "      <td>1</td>\n",
       "      <td>0</td>\n",
       "      <td>0</td>\n",
       "      <td>1</td>\n",
       "      <td>0</td>\n",
       "      <td>2</td>\n",
       "      <td>1</td>\n",
       "      <td>0</td>\n",
       "      <td>1</td>\n",
       "    </tr>\n",
       "    <tr>\n",
       "      <th>1</th>\n",
       "      <td>1</td>\n",
       "      <td>3</td>\n",
       "      <td>1</td>\n",
       "      <td>0</td>\n",
       "      <td>0</td>\n",
       "      <td>1</td>\n",
       "      <td>1</td>\n",
       "      <td>2</td>\n",
       "      <td>3</td>\n",
       "      <td>3</td>\n",
       "      <td>2</td>\n",
       "    </tr>\n",
       "    <tr>\n",
       "      <th>2</th>\n",
       "      <td>1</td>\n",
       "      <td>3</td>\n",
       "      <td>1</td>\n",
       "      <td>0</td>\n",
       "      <td>0</td>\n",
       "      <td>0</td>\n",
       "      <td>1</td>\n",
       "      <td>2</td>\n",
       "      <td>1</td>\n",
       "      <td>2</td>\n",
       "      <td>0</td>\n",
       "    </tr>\n",
       "    <tr>\n",
       "      <th>3</th>\n",
       "      <td>2</td>\n",
       "      <td>1</td>\n",
       "      <td>1</td>\n",
       "      <td>0</td>\n",
       "      <td>0</td>\n",
       "      <td>1</td>\n",
       "      <td>1</td>\n",
       "      <td>1</td>\n",
       "      <td>2</td>\n",
       "      <td>3</td>\n",
       "      <td>2</td>\n",
       "    </tr>\n",
       "    <tr>\n",
       "      <th>4</th>\n",
       "      <td>1</td>\n",
       "      <td>1</td>\n",
       "      <td>1</td>\n",
       "      <td>0</td>\n",
       "      <td>0</td>\n",
       "      <td>0</td>\n",
       "      <td>0</td>\n",
       "      <td>1</td>\n",
       "      <td>1</td>\n",
       "      <td>0</td>\n",
       "      <td>0</td>\n",
       "    </tr>\n",
       "  </tbody>\n",
       "</table>\n",
       "</div>"
      ],
      "text/plain": [
       "   gender  cholesterol  gluc  smoke  alco  active  cardio age_group_encoded  \\\n",
       "0       2            1     1      0     0       1       0                 2   \n",
       "1       1            3     1      0     0       1       1                 2   \n",
       "2       1            3     1      0     0       0       1                 2   \n",
       "3       2            1     1      0     0       1       1                 1   \n",
       "4       1            1     1      0     0       0       0                 1   \n",
       "\n",
       "  bmi_status_encoded ap_hi_status_encoded ap_lo_status_encoded  \n",
       "0                  1                    0                    1  \n",
       "1                  3                    3                    2  \n",
       "2                  1                    2                    0  \n",
       "3                  2                    3                    2  \n",
       "4                  1                    0                    0  "
      ]
     },
     "execution_count": 44,
     "metadata": {},
     "output_type": "execute_result"
    }
   ],
   "source": [
    "# drop the irrelevent columns from the dataframe\n",
    "cardio_train_df = cardio_filtered.drop(columns=['id','age','age_group','height','weight','bmi','bmi_status','age_year','ap_hi','ap_hi_status','ap_lo','ap_lo_status'])\n",
    "cardio_train_df.head()"
   ]
  },
  {
   "cell_type": "code",
   "execution_count": null,
   "id": "96a3a45e",
   "metadata": {},
   "outputs": [],
   "source": [
    "#cardio_train_df.describe()"
   ]
  },
  {
   "cell_type": "code",
   "execution_count": 45,
   "id": "3131f5ff",
   "metadata": {},
   "outputs": [],
   "source": [
    "# Create our features\n",
    "X = pd.get_dummies(cardio_train_df, columns=['age_group_encoded','gender', 'bmi_status_encoded', 'ap_hi_status_encoded', \n",
    "                'ap_lo_status_encoded', 'cholesterol', 'gluc', 'smoke', \n",
    "                'alco','active']).drop('cardio', axis=1)\n",
    "\n",
    "# Create our target\n",
    "y = cardio_train_df['cardio']"
   ]
  },
  {
   "cell_type": "code",
   "execution_count": null,
   "id": "1e98096b",
   "metadata": {},
   "outputs": [],
   "source": [
    "#X.describe()"
   ]
  },
  {
   "cell_type": "code",
   "execution_count": 46,
   "id": "d1b4aa32",
   "metadata": {},
   "outputs": [
    {
     "data": {
      "text/plain": [
       "0    34753\n",
       "1    33394\n",
       "Name: cardio, dtype: int64"
      ]
     },
     "execution_count": 46,
     "metadata": {},
     "output_type": "execute_result"
    }
   ],
   "source": [
    "# Check the balance of our target values\n",
    "y.value_counts()"
   ]
  },
  {
   "cell_type": "code",
   "execution_count": 47,
   "id": "f9b2af48",
   "metadata": {},
   "outputs": [],
   "source": [
    "from sklearn.model_selection import train_test_split\n",
    "X_train, X_test, y_train, y_test = train_test_split(X, y, random_state=1, train_size=0.7, test_size=0.3, stratify=y)"
   ]
  },
  {
   "cell_type": "markdown",
   "id": "dd33e615",
   "metadata": {},
   "source": [
    "## Balanced Random Forest Classifier"
   ]
  },
  {
   "cell_type": "code",
   "execution_count": null,
   "id": "be5b1daa",
   "metadata": {},
   "outputs": [],
   "source": [
    "# Resample the training data with the BalancedRandomForestClassifier\n",
    "from imblearn.ensemble import BalancedRandomForestClassifier\n",
    "brf_model = BalancedRandomForestClassifier(n_estimators=150, random_state=1)\n",
    "\n",
    "# Fitting the model\n",
    "brf_model.fit(X_train, y_train)\n",
    "Counter(y_train)"
   ]
  },
  {
   "cell_type": "code",
   "execution_count": null,
   "id": "9ff164c8",
   "metadata": {},
   "outputs": [],
   "source": [
    "# Evaluate the model\n",
    "y_pred = brf_model.predict(X_test)\n",
    "print(f\" Balanced Random Forest predictive accuracy: {accuracy_score(y_test,y_pred):.3f}\")"
   ]
  },
  {
   "cell_type": "code",
   "execution_count": null,
   "id": "05c5bd48",
   "metadata": {},
   "outputs": [],
   "source": [
    "# Display the confusion matrix\n",
    "cm = confusion_matrix(y_test, y_pred)\n",
    "# Create a DataFrame from the confusion matrix.\n",
    "cm_df = pd.DataFrame(\n",
    "    cm, index=[\"Actual Cardio Presence\", \"Actual Cardio Absence\"], columns=[\"Predicted Cardio Presence\", \"Predicted Cardio Absence\"])\n",
    "cm_df"
   ]
  },
  {
   "cell_type": "code",
   "execution_count": null,
   "id": "3b918c54",
   "metadata": {},
   "outputs": [],
   "source": [
    "# Print the imbalanced classification report\n",
    "from imblearn.metrics import classification_report_imbalanced\n",
    "print(classification_report_imbalanced(y_test, y_pred))"
   ]
  },
  {
   "cell_type": "code",
   "execution_count": null,
   "id": "52524277",
   "metadata": {},
   "outputs": [],
   "source": [
    "# List the features sorted in descending order by feature importance\n",
    "importances = brf_model.feature_importances_\n",
    "sorted(zip(brf_model.feature_importances_, X.columns), reverse=True)"
   ]
  },
  {
   "cell_type": "markdown",
   "id": "fbbe149f",
   "metadata": {},
   "source": [
    "## SMOTEENN"
   ]
  },
  {
   "cell_type": "code",
   "execution_count": 48,
   "id": "75626f42",
   "metadata": {},
   "outputs": [
    {
     "data": {
      "text/plain": [
       "Counter({0: 6833, 1: 9121})"
      ]
     },
     "execution_count": 48,
     "metadata": {},
     "output_type": "execute_result"
    }
   ],
   "source": [
    "# Resample the training data with SMOTEENN\n",
    "from imblearn.combine import SMOTEENN\n",
    "smoteenn = SMOTEENN(random_state=1)\n",
    "\n",
    "# Fitting the model\n",
    "X_resampled, y_resampled = smoteenn.fit_resample(X_train, y_train)\n",
    "Counter(y_resampled)"
   ]
  },
  {
   "cell_type": "code",
   "execution_count": 49,
   "id": "71007314",
   "metadata": {},
   "outputs": [
    {
     "data": {
      "text/plain": [
       "LogisticRegression(random_state=1)"
      ]
     },
     "execution_count": 49,
     "metadata": {},
     "output_type": "execute_result"
    }
   ],
   "source": [
    "# Train the Logistic Regression model using the resampled data\n",
    "from sklearn.linear_model import LogisticRegression\n",
    "logreg = LogisticRegression(solver='lbfgs', random_state=1)\n",
    "logreg.fit(X_resampled, y_resampled)"
   ]
  },
  {
   "cell_type": "code",
   "execution_count": 50,
   "id": "e29fd54b",
   "metadata": {},
   "outputs": [
    {
     "name": "stdout",
     "output_type": "stream",
     "text": [
      " SMOTEENN predictive accuracy: 0.725\n"
     ]
    }
   ],
   "source": [
    "# Calculated the balanced accuracy score\n",
    "y_pred = logreg.predict(X_test)\n",
    "print(f\" SMOTEENN predictive accuracy: {accuracy_score(y_test,y_pred):.3f}\")"
   ]
  },
  {
   "cell_type": "code",
   "execution_count": 51,
   "id": "05c45fb2",
   "metadata": {},
   "outputs": [
    {
     "data": {
      "text/html": [
       "<div>\n",
       "<style scoped>\n",
       "    .dataframe tbody tr th:only-of-type {\n",
       "        vertical-align: middle;\n",
       "    }\n",
       "\n",
       "    .dataframe tbody tr th {\n",
       "        vertical-align: top;\n",
       "    }\n",
       "\n",
       "    .dataframe thead th {\n",
       "        text-align: right;\n",
       "    }\n",
       "</style>\n",
       "<table border=\"1\" class=\"dataframe\">\n",
       "  <thead>\n",
       "    <tr style=\"text-align: right;\">\n",
       "      <th></th>\n",
       "      <th>Predicted Cardio Presence</th>\n",
       "      <th>Predicted Cardio Absence</th>\n",
       "    </tr>\n",
       "  </thead>\n",
       "  <tbody>\n",
       "    <tr>\n",
       "      <th>Actual Cardio Presence</th>\n",
       "      <td>7912</td>\n",
       "      <td>2514</td>\n",
       "    </tr>\n",
       "    <tr>\n",
       "      <th>Actual Cardio Absence</th>\n",
       "      <td>3106</td>\n",
       "      <td>6913</td>\n",
       "    </tr>\n",
       "  </tbody>\n",
       "</table>\n",
       "</div>"
      ],
      "text/plain": [
       "                        Predicted Cardio Presence  Predicted Cardio Absence\n",
       "Actual Cardio Presence                       7912                      2514\n",
       "Actual Cardio Absence                        3106                      6913"
      ]
     },
     "execution_count": 51,
     "metadata": {},
     "output_type": "execute_result"
    }
   ],
   "source": [
    "# Display the confusion matrix\n",
    "cm = confusion_matrix(y_test, y_pred)\n",
    "# Create a DataFrame from the confusion matrix.\n",
    "cm_df = pd.DataFrame(\n",
    "     cm, index=[\"Actual Cardio Presence\", \"Actual Cardio Absence\"], columns=[\"Predicted Cardio Presence\", \"Predicted Cardio Absence\"])\n",
    "cm_df"
   ]
  },
  {
   "cell_type": "code",
   "execution_count": 52,
   "id": "dc439f6c",
   "metadata": {},
   "outputs": [
    {
     "name": "stdout",
     "output_type": "stream",
     "text": [
      "                   pre       rec       spe        f1       geo       iba       sup\n",
      "\n",
      "          0       0.72      0.76      0.69      0.74      0.72      0.53     10426\n",
      "          1       0.73      0.69      0.76      0.71      0.72      0.52     10019\n",
      "\n",
      "avg / total       0.73      0.73      0.72      0.72      0.72      0.52     20445\n",
      "\n"
     ]
    }
   ],
   "source": [
    "# Print the imbalanced classification report\n",
    "print(classification_report_imbalanced(y_test, y_pred))"
   ]
  },
  {
   "cell_type": "markdown",
   "id": "d530c3a7",
   "metadata": {},
   "source": [
    "## SMOTE Oversampling"
   ]
  },
  {
   "cell_type": "code",
   "execution_count": 53,
   "id": "5ecd4736",
   "metadata": {},
   "outputs": [
    {
     "data": {
      "text/plain": [
       "Counter({1: 24327, 0: 24327})"
      ]
     },
     "execution_count": 53,
     "metadata": {},
     "output_type": "execute_result"
    }
   ],
   "source": [
    "# Resample the training data with SMOTE\n",
    "from imblearn.over_sampling import SMOTE\n",
    "smote = SMOTE(random_state=1)\n",
    "\n",
    "# Fitting the model\n",
    "X_resampled, y_resampled = smote.fit_resample(X_train, y_train)\n",
    "Counter(y_resampled)"
   ]
  },
  {
   "cell_type": "code",
   "execution_count": 54,
   "id": "806ed551",
   "metadata": {},
   "outputs": [
    {
     "data": {
      "text/plain": [
       "LogisticRegression(random_state=1)"
      ]
     },
     "execution_count": 54,
     "metadata": {},
     "output_type": "execute_result"
    }
   ],
   "source": [
    "# Train the Logistic Regression model using the resampled data\n",
    "logreg.fit(X_resampled, y_resampled)"
   ]
  },
  {
   "cell_type": "code",
   "execution_count": 58,
   "id": "0768aaea",
   "metadata": {},
   "outputs": [
    {
     "name": "stdout",
     "output_type": "stream",
     "text": [
      " SMOTE Oversampling predictive accuracy: 0.723\n"
     ]
    }
   ],
   "source": [
    "# Calculated the balanced accuracy score\n",
    "y_pred = logreg.predict(X_test)\n",
    "print(f\" SMOTE Oversampling predictive accuracy: {accuracy_score(y_test,y_pred):.3f}\")"
   ]
  },
  {
   "cell_type": "code",
   "execution_count": 56,
   "id": "609ce022",
   "metadata": {
    "scrolled": true
   },
   "outputs": [
    {
     "data": {
      "text/html": [
       "<div>\n",
       "<style scoped>\n",
       "    .dataframe tbody tr th:only-of-type {\n",
       "        vertical-align: middle;\n",
       "    }\n",
       "\n",
       "    .dataframe tbody tr th {\n",
       "        vertical-align: top;\n",
       "    }\n",
       "\n",
       "    .dataframe thead th {\n",
       "        text-align: right;\n",
       "    }\n",
       "</style>\n",
       "<table border=\"1\" class=\"dataframe\">\n",
       "  <thead>\n",
       "    <tr style=\"text-align: right;\">\n",
       "      <th></th>\n",
       "      <th>Predicted Cardio Presence</th>\n",
       "      <th>Predicted Cardio Absence</th>\n",
       "    </tr>\n",
       "  </thead>\n",
       "  <tbody>\n",
       "    <tr>\n",
       "      <th>Actual Cardio Presence</th>\n",
       "      <td>8303</td>\n",
       "      <td>2123</td>\n",
       "    </tr>\n",
       "    <tr>\n",
       "      <th>Actual Cardio Absence</th>\n",
       "      <td>3537</td>\n",
       "      <td>6482</td>\n",
       "    </tr>\n",
       "  </tbody>\n",
       "</table>\n",
       "</div>"
      ],
      "text/plain": [
       "                        Predicted Cardio Presence  Predicted Cardio Absence\n",
       "Actual Cardio Presence                       8303                      2123\n",
       "Actual Cardio Absence                        3537                      6482"
      ]
     },
     "execution_count": 56,
     "metadata": {},
     "output_type": "execute_result"
    }
   ],
   "source": [
    "# Display the confusion matrix\n",
    "cm = confusion_matrix(y_test, y_pred)\n",
    "# Create a DataFrame from the confusion matrix.\n",
    "cm_df = pd.DataFrame(\n",
    "     cm, index=[\"Actual Cardio Presence\", \"Actual Cardio Absence\"], columns=[\"Predicted Cardio Presence\", \"Predicted Cardio Absence\"])\n",
    "cm_df"
   ]
  },
  {
   "cell_type": "code",
   "execution_count": 57,
   "id": "a5c9fb08",
   "metadata": {
    "scrolled": true
   },
   "outputs": [
    {
     "name": "stdout",
     "output_type": "stream",
     "text": [
      "                   pre       rec       spe        f1       geo       iba       sup\n",
      "\n",
      "          0       0.70      0.80      0.65      0.75      0.72      0.52     10426\n",
      "          1       0.75      0.65      0.80      0.70      0.72      0.51     10019\n",
      "\n",
      "avg / total       0.73      0.72      0.72      0.72      0.72      0.52     20445\n",
      "\n"
     ]
    }
   ],
   "source": [
    "# Print the imbalanced classification report\n",
    "print(classification_report_imbalanced(y_test, y_pred))"
   ]
  },
  {
   "cell_type": "markdown",
   "id": "c687d93d",
   "metadata": {},
   "source": [
    "## Easy Ensemble Classifier"
   ]
  },
  {
   "cell_type": "code",
   "execution_count": 65,
   "id": "c71f2348",
   "metadata": {},
   "outputs": [
    {
     "data": {
      "text/plain": [
       "Counter({1: 23375, 0: 24327})"
      ]
     },
     "execution_count": 65,
     "metadata": {},
     "output_type": "execute_result"
    }
   ],
   "source": [
    "# Train the EasyEnsembleClassifier\n",
    "from imblearn.ensemble import EasyEnsembleClassifier\n",
    "ee_model = EasyEnsembleClassifier(n_estimators=150, random_state=1)\n",
    "\n",
    "# Fitting the model\n",
    "ee_model.fit(X_train, y_train)\n",
    "Counter(y_train)"
   ]
  },
  {
   "cell_type": "code",
   "execution_count": 60,
   "id": "0004806b",
   "metadata": {},
   "outputs": [
    {
     "name": "stdout",
     "output_type": "stream",
     "text": [
      " Easy Ensemble predictive accuracy: 0.722\n"
     ]
    }
   ],
   "source": [
    "# Calculated the balanced accuracy score\n",
    "y_pred = ee_model.predict(X_test)\n",
    "print(f\" Easy Ensemble predictive accuracy: {accuracy_score(y_test,y_pred):.3f}\")"
   ]
  },
  {
   "cell_type": "code",
   "execution_count": 61,
   "id": "75e228cb",
   "metadata": {},
   "outputs": [
    {
     "data": {
      "text/html": [
       "<div>\n",
       "<style scoped>\n",
       "    .dataframe tbody tr th:only-of-type {\n",
       "        vertical-align: middle;\n",
       "    }\n",
       "\n",
       "    .dataframe tbody tr th {\n",
       "        vertical-align: top;\n",
       "    }\n",
       "\n",
       "    .dataframe thead th {\n",
       "        text-align: right;\n",
       "    }\n",
       "</style>\n",
       "<table border=\"1\" class=\"dataframe\">\n",
       "  <thead>\n",
       "    <tr style=\"text-align: right;\">\n",
       "      <th></th>\n",
       "      <th>Predicted Cardio Presence</th>\n",
       "      <th>Predicted Cardio Absence</th>\n",
       "    </tr>\n",
       "  </thead>\n",
       "  <tbody>\n",
       "    <tr>\n",
       "      <th>Actual Cardio Presence</th>\n",
       "      <td>8384</td>\n",
       "      <td>2042</td>\n",
       "    </tr>\n",
       "    <tr>\n",
       "      <th>Actual Cardio Absence</th>\n",
       "      <td>3634</td>\n",
       "      <td>6385</td>\n",
       "    </tr>\n",
       "  </tbody>\n",
       "</table>\n",
       "</div>"
      ],
      "text/plain": [
       "                        Predicted Cardio Presence  Predicted Cardio Absence\n",
       "Actual Cardio Presence                       8384                      2042\n",
       "Actual Cardio Absence                        3634                      6385"
      ]
     },
     "execution_count": 61,
     "metadata": {},
     "output_type": "execute_result"
    }
   ],
   "source": [
    "# Display the confusion matrix\n",
    "cm = confusion_matrix(y_test, y_pred)\n",
    "# Create a DataFrame from the confusion matrix.\n",
    "cm_df = pd.DataFrame(\n",
    "     cm, index=[\"Actual Cardio Presence\", \"Actual Cardio Absence\"], columns=[\"Predicted Cardio Presence\", \"Predicted Cardio Absence\"])\n",
    "cm_df"
   ]
  },
  {
   "cell_type": "code",
   "execution_count": 62,
   "id": "53dfa389",
   "metadata": {},
   "outputs": [
    {
     "name": "stdout",
     "output_type": "stream",
     "text": [
      "                   pre       rec       spe        f1       geo       iba       sup\n",
      "\n",
      "          0       0.70      0.80      0.64      0.75      0.72      0.52     10426\n",
      "          1       0.76      0.64      0.80      0.69      0.72      0.50     10019\n",
      "\n",
      "avg / total       0.73      0.72      0.72      0.72      0.72      0.51     20445\n",
      "\n"
     ]
    }
   ],
   "source": [
    "# Print the imbalanced classification report\n",
    "print(classification_report_imbalanced(y_test, y_pred))"
   ]
  }
 ],
 "metadata": {
  "kernelspec": {
   "display_name": "Python [conda env:mlenv] *",
   "language": "python",
   "name": "conda-env-mlenv-py"
  },
  "language_info": {
   "codemirror_mode": {
    "name": "ipython",
    "version": 3
   },
   "file_extension": ".py",
   "mimetype": "text/x-python",
   "name": "python",
   "nbconvert_exporter": "python",
   "pygments_lexer": "ipython3",
   "version": "3.7.10"
  },
  "varInspector": {
   "cols": {
    "lenName": 16,
    "lenType": 16,
    "lenVar": 40
   },
   "kernels_config": {
    "python": {
     "delete_cmd_postfix": "",
     "delete_cmd_prefix": "del ",
     "library": "var_list.py",
     "varRefreshCmd": "print(var_dic_list())"
    },
    "r": {
     "delete_cmd_postfix": ") ",
     "delete_cmd_prefix": "rm(",
     "library": "var_list.r",
     "varRefreshCmd": "cat(var_dic_list()) "
    }
   },
   "types_to_exclude": [
    "module",
    "function",
    "builtin_function_or_method",
    "instance",
    "_Feature"
   ],
   "window_display": false
  }
 },
 "nbformat": 4,
 "nbformat_minor": 5
}
